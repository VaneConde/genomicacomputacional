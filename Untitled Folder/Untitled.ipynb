{
 "cells": [
  {
   "cell_type": "code",
   "execution_count": 23,
   "metadata": {},
   "outputs": [],
   "source": [
    "def complemento_inverso(dna):\n",
    "    dnainverso=[]\n",
    "    for i in reversed(dna):\n",
    "        if i==\"A\":\n",
    "            dnainverso.append(\"T\")\n",
    "        elif i ==\"G\":\n",
    "            dnainverso.append(\"C\")\n",
    "        elif i ==\"C\":\n",
    "            dnainverso.append(\"G\")\n",
    "        elif i ==\"T\":\n",
    "             dnainverso.append(\"A\")\n",
    "        print(str.join(\"\", (x for x in dnainverso)))\n",
    "        \n",
    "        complemento_inverso(\"AAACCCGGT\")\n",
    "        "
   ]
  },
  {
   "cell_type": "code",
   "execution_count": 22,
   "metadata": {},
   "outputs": [
    {
     "name": "stdout",
     "output_type": "stream",
     "text": [
      "hola\n"
     ]
    }
   ],
   "source": [
    "x=\"hola\"\n",
    "print(x)"
   ]
  },
  {
   "cell_type": "code",
   "execution_count": 28,
   "metadata": {},
   "outputs": [
    {
     "name": "stdout",
     "output_type": "stream",
     "text": [
      "CAATAGTAGAACTATTGCTTAGATTGATCAATAGAGATCTAAACTATCCCGACTAACTACGGTCTTCTCT\n"
     ]
    }
   ],
   "source": [
    "def complemento_inverso(dna):\n",
    "    dnainverso=[]\n",
    "    for i in reversed(dna):\n",
    "        if i==\"A\":\n",
    "            dnainverso.append(\"T\")\n",
    "        elif i ==\"G\":\n",
    "            dnainverso.append(\"C\")\n",
    "        elif i ==\"C\":\n",
    "            dnainverso.append(\"G\")\n",
    "        elif i ==\"T\":\n",
    "             dnainverso.append(\"A\")\n",
    "    print(str.join(\"\", (x for x in dnainverso)))\n",
    "complemento_inverso(\"AGAGAAGACCGTAGTTAGTCGGGATAGTTTAGATCTCTATTGATCAATCTAAGCAATAGTTCTACTATTG\")"
   ]
  },
  {
   "cell_type": "code",
   "execution_count": null,
   "metadata": {},
   "outputs": [],
   "source": []
  },
  {
   "cell_type": "code",
   "execution_count": null,
   "metadata": {},
   "outputs": [],
   "source": []
  },
  {
   "cell_type": "code",
   "execution_count": null,
   "metadata": {},
   "outputs": [],
   "source": []
  },
  {
   "cell_type": "code",
   "execution_count": null,
   "metadata": {},
   "outputs": [],
   "source": []
  },
  {
   "cell_type": "code",
   "execution_count": null,
   "metadata": {},
   "outputs": [],
   "source": []
  },
  {
   "cell_type": "code",
   "execution_count": null,
   "metadata": {},
   "outputs": [],
   "source": []
  },
  {
   "cell_type": "code",
   "execution_count": null,
   "metadata": {},
   "outputs": [],
   "source": []
  },
  {
   "cell_type": "code",
   "execution_count": null,
   "metadata": {},
   "outputs": [],
   "source": []
  }
 ],
 "metadata": {
  "kernelspec": {
   "display_name": "Python 3",
   "language": "python",
   "name": "python3"
  },
  "language_info": {
   "codemirror_mode": {
    "name": "ipython",
    "version": 3
   },
   "file_extension": ".py",
   "mimetype": "text/x-python",
   "name": "python",
   "nbconvert_exporter": "python",
   "pygments_lexer": "ipython3",
   "version": "3.8.3"
  }
 },
 "nbformat": 4,
 "nbformat_minor": 4
}
